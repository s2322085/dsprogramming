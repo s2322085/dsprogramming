{
 "cells": [
  {
   "cell_type": "code",
   "execution_count": 7,
   "metadata": {},
   "outputs": [
    {
     "name": "stdout",
     "output_type": "stream",
     "text": [
      "1: 9.4\n",
      "2: 9.2\n",
      "3: 9.7\n",
      "4: 9.9\n",
      "5: 8.5\n",
      "6: 11.9\n",
      "7: 14.7\n",
      "8: 12.8\n",
      "9: 13.4\n",
      "10: 13.6\n",
      "11: 13.7\n",
      "12: 12.5\n",
      "13: 11.9\n",
      "14: 10.9\n",
      "15: 12.9\n",
      "16: 19.3\n",
      "17: 11.7\n",
      "18: 7.6\n",
      "19: 7.6\n",
      "20: 9.4\n",
      "21: 7.9\n",
      "22: 6.0\n",
      "23: 6.0\n",
      "24: 5.8\n",
      "25: 7.5\n",
      "26: 8.4\n",
      "27: 8.8\n",
      "28: 8.1\n",
      "29: 8.8\n",
      "30: 9.8\n",
      "31: 9.6\n"
     ]
    }
   ],
   "source": [
    "import requests\n",
    "from bs4 import BeautifulSoup\n",
    "import sqlite3\n",
    "import time\n",
    "\n",
    "url = \"https://www.data.jma.go.jp/stats/etrn/view/daily_s1.php?prec_no=46&block_no=47670&year=2023&month=12&day=&view=\"\n",
    "\n",
    "r  = requests.get(url)\n",
    "soup = BeautifulSoup(r.text, 'html.parser')\n",
    "rows = soup.find_all('tr', class_='mtx')\n",
    "\n",
    "rows = rows[3:]\n",
    "data = []\n",
    "\n",
    "for row in rows:\n",
    "    weather = row.find_all('td')\n",
    "    if len(weather) >= 1:\n",
    "        date = weather[0].text.strip()\n",
    "        temperature = weather[6].text.strip()\n",
    "        data.append((date, temperature))\n",
    "        \n",
    "for date, temperature in data:\n",
    "    print(f\"{date}: {temperature}\")"
   ]
  },
  {
   "cell_type": "code",
   "execution_count": 11,
   "metadata": {},
   "outputs": [],
   "source": [
    "db_name = 'weather.sqlite'\n",
    "\n",
    "con = sqlite3.connect(db_name)\n",
    "cur = con.cursor()\n",
    "\n",
    "cur.execute('''CREATE TABLE IF NOT EXISTS weathers(\n",
    "                date TEXT,\n",
    "                temperature REAL\n",
    "                )''')\n",
    "\n",
    "sql_insert = '''INSERT INTO weathers(\n",
    "                date, temperature)\n",
    "                VALUES (?, ?)'''\n",
    "\n",
    "cur.executemany(sql_insert, data)\n",
    "\n",
    "con.commit()\n",
    "\n",
    "con.close()"
   ]
  }
 ],
 "metadata": {
  "kernelspec": {
   "display_name": "Python 3",
   "language": "python",
   "name": "python3"
  },
  "language_info": {
   "codemirror_mode": {
    "name": "ipython",
    "version": 3
   },
   "file_extension": ".py",
   "mimetype": "text/x-python",
   "name": "python",
   "nbconvert_exporter": "python",
   "pygments_lexer": "ipython3",
   "version": "3.11.2"
  }
 },
 "nbformat": 4,
 "nbformat_minor": 2
}
